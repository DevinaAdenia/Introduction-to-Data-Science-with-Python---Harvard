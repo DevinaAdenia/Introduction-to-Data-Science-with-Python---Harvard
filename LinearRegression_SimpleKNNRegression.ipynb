{
    "metadata": {
        "kernelspec": {
            "name": "python3",
            "display_name": "Python 3 (ipykernel)",
            "language": "python"
        }
    },
    "nbformat": 4,
    "nbformat_minor": 4,
    "cells": [
        {
            "cell_type": "code",
            "execution_count": 1,
            "metadata": {},
            "outputs": [],
            "source": [
                "# Import required libraries\n",
                "import numpy as np\n",
                "import pandas as pd\n",
                "import matplotlib.pyplot as plt\n",
                "from sklearn.neighbors import KNeighborsRegressor\n",
                "from sklearn.model_selection import train_test_split\n",
                "%matplotlib inline\n",
                ""
            ]
        },
        {
            "cell_type": "code",
            "execution_count": 2,
            "metadata": {},
            "outputs": [],
            "source": [
                "# Read the data from the file \"Advertising.csv\"\n",
                "filename = 'Advertising.csv'\n",
                "df_adv = pd.read_csv('Advertising.csv')\n",
                ""
            ]
        },
        {
            "cell_type": "code",
            "execution_count": 3,
            "metadata": {},
            "outputs": [
                {
                    "data": {
                        "text/html": "\u003cdiv\u003e\n\u003cstyle scoped\u003e\n    .dataframe tbody tr th:only-of-type {\n        vertical-align: middle;\n    }\n\n    .dataframe tbody tr th {\n        vertical-align: top;\n    }\n\n    .dataframe thead th {\n        text-align: right;\n    }\n\u003c/style\u003e\n\u003ctable border=\"1\" class=\"dataframe\"\u003e\n  \u003cthead\u003e\n    \u003ctr style=\"text-align: right;\"\u003e\n      \u003cth\u003e\u003c/th\u003e\n      \u003cth\u003eTV\u003c/th\u003e\n      \u003cth\u003eRadio\u003c/th\u003e\n      \u003cth\u003eNewspaper\u003c/th\u003e\n      \u003cth\u003eSales\u003c/th\u003e\n    \u003c/tr\u003e\n  \u003c/thead\u003e\n  \u003ctbody\u003e\n    \u003ctr\u003e\n      \u003cth\u003e0\u003c/th\u003e\n      \u003ctd\u003e230.1\u003c/td\u003e\n      \u003ctd\u003e37.8\u003c/td\u003e\n      \u003ctd\u003e69.2\u003c/td\u003e\n      \u003ctd\u003e22.1\u003c/td\u003e\n    \u003c/tr\u003e\n    \u003ctr\u003e\n      \u003cth\u003e1\u003c/th\u003e\n      \u003ctd\u003e44.5\u003c/td\u003e\n      \u003ctd\u003e39.3\u003c/td\u003e\n      \u003ctd\u003e45.1\u003c/td\u003e\n      \u003ctd\u003e10.4\u003c/td\u003e\n    \u003c/tr\u003e\n    \u003ctr\u003e\n      \u003cth\u003e2\u003c/th\u003e\n      \u003ctd\u003e17.2\u003c/td\u003e\n      \u003ctd\u003e45.9\u003c/td\u003e\n      \u003ctd\u003e69.3\u003c/td\u003e\n      \u003ctd\u003e9.3\u003c/td\u003e\n    \u003c/tr\u003e\n    \u003ctr\u003e\n      \u003cth\u003e3\u003c/th\u003e\n      \u003ctd\u003e151.5\u003c/td\u003e\n      \u003ctd\u003e41.3\u003c/td\u003e\n      \u003ctd\u003e58.5\u003c/td\u003e\n      \u003ctd\u003e18.5\u003c/td\u003e\n    \u003c/tr\u003e\n    \u003ctr\u003e\n      \u003cth\u003e4\u003c/th\u003e\n      \u003ctd\u003e180.8\u003c/td\u003e\n      \u003ctd\u003e10.8\u003c/td\u003e\n      \u003ctd\u003e58.4\u003c/td\u003e\n      \u003ctd\u003e12.9\u003c/td\u003e\n    \u003c/tr\u003e\n  \u003c/tbody\u003e\n\u003c/table\u003e\n\u003c/div\u003e",
                        "text/plain": "      TV  Radio  Newspaper  Sales\n0  230.1   37.8       69.2   22.1\n1   44.5   39.3       45.1   10.4\n2   17.2   45.9       69.3    9.3\n3  151.5   41.3       58.5   18.5\n4  180.8   10.8       58.4   12.9"
                    },
                    "execution_count": 3,
                    "metadata": {},
                    "output_type": "execute_result"
                }
            ],
            "source": [
                "# Take a quick look of the dataset\n",
                "df_adv.head()\n",
                ""
            ]
        },
        {
            "attachments": {},
            "cell_type": "markdown",
            "metadata": {},
            "source": [
                "## Part 1: KNN by hand for $k=1$"
            ]
        },
        {
            "cell_type": "code",
            "execution_count": 4,
            "metadata": {},
            "outputs": [],
            "source": [
                "# Get a subset of the data i.e. rows 5 to 13\n",
                "# Use the TV column as the predictor\n",
                "x_true = df_adv.TV.iloc[5:13]\n",
                "\n",
                "# Use the Sales column as the response\n",
                "y_true = df_adv.Sales.iloc[5:13]\n",
                "\n",
                "# Sort the data to get indices ordered from lowest to highest TV values\n",
                "idx = np.argsort(x_true).values \n",
                "\n",
                "# Get the predictor data in the order given by idx above\n",
                "x_true  = x_true.iloc[idx].values\n",
                "\n",
                "# Get the response data in the order given by idx above\n",
                "y_true  = y_true.iloc[idx].values\n",
                ""
            ]
        },
        {
            "cell_type": "code",
            "execution_count": 5,
            "metadata": {},
            "outputs": [],
            "source": [
                "### edTest(test_findnearest) ###\n",
                "# Define a function that finds the index of the nearest neighbor \n",
                "# and returns the value of the nearest neighbor.  \n",
                "# Note that this is just for k = 1 where the distance function is \n",
                "# simply the absolute value.\n",
                "\n",
                "def find_nearest(array,value):\n",
                "    \n",
                "    # Hint: To find idx, use .idxmin() function on the series\n",
                "    idx = pd.Series(np.abs(array-value)).idxmin()\n",
                "\n",
                "    # Return the nearest neighbor index and value\n",
                "    return idx, array[idx]\n",
                ""
            ]
        },
        {
            "cell_type": "code",
            "execution_count": 6,
            "metadata": {},
            "outputs": [],
            "source": [
                "# Create some synthetic x-values (might not be in the actual dataset)\n",
                "x = np.linspace(np.min(x_true), np.max(x_true))\n",
                "\n",
                "# Initialize the y-values for the length of the synthetic x-values to zero\n",
                "y = np.zeros((len(x)))\n",
                ""
            ]
        },
        {
            "cell_type": "code",
            "execution_count": 7,
            "metadata": {},
            "outputs": [],
            "source": [
                "# Apply the KNN algorithm to predict the y-value for the given x value\n",
                "for i, xi in enumerate(x):\n",
                "\n",
                "    # Get the Sales values closest to the given x value\n",
                "    y[i] = y_true[find_nearest(x_true, xi )[0]]\n",
                ""
            ]
        },
        {
            "attachments": {},
            "cell_type": "markdown",
            "metadata": {},
            "source": [
                "### Plotting the data"
            ]
        },
        {
            "cell_type": "code",
            "execution_count": 8,
            "metadata": {},
            "outputs": [
                {
                    "data": {
                        "text/plain": "Text(0, 0.5, 'Sales in $1000')"
                    },
                    "execution_count": 8,
                    "metadata": {},
                    "output_type": "execute_result"
                },
                {
                    "data": {
                        "image/png": "[encoded data removed]",
                        "text/plain": "\u003cFigure size 640x480 with 1 Axes\u003e"
                    },
                    "metadata": {},
                    "output_type": "display_data"
                }
            ],
            "source": [
                "# Plot the synthetic data along with the predictions    \n",
                "plt.plot(x, y, '-.')\n",
                "\n",
                "# Plot the original data using black x's.\n",
                "plt.plot(x, y, 'kx')\n",
                "\n",
                "# Set the title and axis labels\n",
                "plt.title('TV vs Sales')\n",
                "plt.xlabel('TV budget in $1000')\n",
                "plt.ylabel('Sales in $1000')\n",
                ""
            ]
        },
        {
            "attachments": {},
            "cell_type": "markdown",
            "metadata": {},
            "source": [
                "## Part 2: KNN for $k\\ge1$ using sklearn"
            ]
        },
        {
            "cell_type": "code",
            "execution_count": 9,
            "metadata": {},
            "outputs": [],
            "source": [
                "# Read the data from the file \"Advertising.csv\"\n",
                "data_filename = 'Advertising.csv'\n",
                "df = pd.read_csv(data_filename)\n",
                "\n",
                "# Set 'TV' as the 'predictor variable'   \n",
                "x = df[['TV']]\n",
                "\n",
                "# Set 'Sales' as the response variable 'y' \n",
                "y = df[['Sales']]\n",
                ""
            ]
        },
        {
            "cell_type": "code",
            "execution_count": 10,
            "metadata": {},
            "outputs": [],
            "source": [
                "### edTest(test_shape) ###\n",
                "# Split the dataset in training and testing with 60% training set \n",
                "# and 40% testing set with random state = 42\n",
                "x_train, x_test, y_train, y_test = train_test_split(x, y, train_size=0.6,random_state=42)\n",
                ""
            ]
        },
        {
            "cell_type": "code",
            "execution_count": 14,
            "metadata": {},
            "outputs": [],
            "source": [
                "### edTest(test_nums) ###\n",
                "\n",
                "# Choose the minimum k value based on the instructions given on the left\n",
                "k_value_min = 1\n",
                "\n",
                "# Choose the maximum k value based on the instructions given on the left\n",
                "k_value_max = 70\n",
                "\n",
                "\n",
                "# Create a list of integer k values betwwen k_value_min and k_value_max using linspace\n",
                "k_list = np.linspace(k_value_min, k_value_max, 70,dtype=int)\n",
                ""
            ]
        },
        {
            "cell_type": "code",
            "execution_count": 1,
            "metadata": {},
            "outputs": [
                {
                    "ename": "NameError",
                    "evalue": "name 'plt' is not defined",
                    "output_type": "error",
                    "traceback": [
                        "\u001b[0;31m---------------------------------------------------------------------------\u001b[0m",
                        "\u001b[0;31mNameError\u001b[0m                                 Traceback (most recent call last)",
                        "Cell \u001b[0;32mIn[1], line 2\u001b[0m\n\u001b[1;32m      1\u001b[0m \u001b[38;5;66;03m# Set the grid to plot the values\u001b[39;00m\n\u001b[0;32m----\u003e 2\u001b[0m fig, ax \u001b[38;5;241m=\u001b[39m \u001b[43mplt\u001b[49m\u001b[38;5;241m.\u001b[39msubplots(figsize\u001b[38;5;241m=\u001b[39m(\u001b[38;5;241m10\u001b[39m,\u001b[38;5;241m6\u001b[39m))\n\u001b[1;32m      4\u001b[0m \u001b[38;5;66;03m# Variable used to alter the linewidth of each plot\u001b[39;00m\n\u001b[1;32m      5\u001b[0m j\u001b[38;5;241m=\u001b[39m\u001b[38;5;241m0\u001b[39m\n",
                        "\u001b[0;31mNameError\u001b[0m: name 'plt' is not defined"
                    ]
                }
            ],
            "source": [
                "# Set the grid to plot the values\n",
                "fig, ax = plt.subplots(figsize=(10,6))\n",
                "\n",
                "# Variable used to alter the linewidth of each plot\n",
                "j=0\n",
                "\n",
                "# Loop over all the k values\n",
                "for k_value in k_list:   \n",
                "    \n",
                "    # Creating a kNN Regression model \n",
                "    model = KNeighborsRegressor(n_neighbors=int(k_value))\n",
                "    \n",
                "    # Fitting the regression model on the training data \n",
                "    model.fit(x, y)\n",
                "    \n",
                "    # Use the trained model to predict on the test data \n",
                "    y_pred = model.predict(x)\n",
                "    \n",
                "    # Helper code to plot the data along with the model predictions\n",
                "    colors = ['grey','r','b']\n",
                "    if k_value in [1,10,70]:\n",
                "        xvals = np.linspace(x.min(),x.max(),100)\n",
                "        ypreds = model.predict(xvals)\n",
                "        ax.plot(xvals, ypreds,'-',label = f'k = {int(k_value)}',linewidth=j+2,color = colors[j])\n",
                "        j+=1\n",
                "        \n",
                "ax.legend(loc='lower right',fontsize=20)\n",
                "ax.plot(x_train, y_train,'x',label='train',color='k')\n",
                "ax.set_xlabel('TV budget in $1000',fontsize=20)\n",
                "ax.set_ylabel('Sales in $1000',fontsize=20)\n",
                "plt.tight_layout()\n",
                ""
            ]
        },
        {
            "attachments": {},
            "cell_type": "markdown",
            "metadata": {},
            "source": [
                "#### ⏸ In the plotting code above, re-run `ax.plot(x_train, y_train,'x',label='train',color='k')` with `x_test` and `y_test` instead. According to you, which k value is the best and why?"
            ]
        },
        {
            "cell_type": "code",
            "execution_count": 13,
            "metadata": {},
            "outputs": [],
            "source": [
                "### edTest(test_chow1) ###\n",
                "# Type your answer within in the quotes given\n",
                "answer1 = 'the k value is the best is \u003e1'\n",
                ""
            ]
        }
    ]
}
